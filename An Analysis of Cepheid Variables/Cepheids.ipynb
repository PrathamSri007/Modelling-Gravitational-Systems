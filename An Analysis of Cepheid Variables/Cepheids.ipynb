{
 "cells": [
  {
   "cell_type": "markdown",
   "id": "88c6b36a-97fe-47eb-a7fc-1e84dc714931",
   "metadata": {},
   "source": [
    "# Cepheids\n",
    "\n",
    "Cepheids are a type of variable star that pulsate radially, varying in both diameter and temperature, which produces changes in brightness with a well-defined stable period and amplitude. These stars are significant in the field of astronomy for several reasons:\n",
    "\n",
    "1. **Standard Candles**: Cepheids have a well-established relationship between their luminosity and pulsation period, known as the Leavitt law or period-luminosity relation. This makes them excellent standard candles for measuring astronomical distances.\n",
    "\n",
    "2. **Distance Measurement**: By observing the period of a Cepheid's brightness variations, astronomers can determine its absolute magnitude. Comparing this with the apparent magnitude allows for the calculation of the distance to the star, which is crucial for mapping the scale of the universe.\n",
    "\n",
    "3. **Galactic and Extragalactic Studies**: Cepheids are used to measure distances within our galaxy and to nearby galaxies. This helps in understanding the structure and scale of the Milky Way and the local group of galaxies.\n",
    "\n",
    "4. **Historical Importance**: The discovery of Cepheids in the Andromeda galaxy by Edwin Hubble was pivotal in establishing that the universe is expanding, leading to the formulation of the Big Bang theory.\n",
    "\n",
    "Cepheids continue to be a vital tool in modern astrophysics, aiding in the calibration of other distance measurement methods and contributing to our understanding of the cosmos."
   ]
  },
  {
   "cell_type": "markdown",
   "id": "440751b0-6e3b-452d-9cc3-a2df87d9e048",
   "metadata": {},
   "source": [
    "# Part 1\n",
    "\n",
    "The data in ```cepheids.csv``` is organised in two columns: the period of the cepheid variable and its absolute magnitude calculated from mean luminosity.\n",
    "\n",
    "These two values are actually related by the Leavitt law:\n",
    "$$M = a \\cdot \\log_{10}{P} + b$$\n",
    "\n",
    "First, we find the constants $a$ and $b$ in this relation to fit the given data."
   ]
  },
  {
   "cell_type": "code",
   "execution_count": null,
   "id": "4f2a0f92-b30d-4c95-bb61-f515895bc9a7",
   "metadata": {},
   "outputs": [],
   "source": [
    "import numpy as np\n",
    "import math\n",
    "\n",
    "#reading csv file and storing its data\n",
    "with open('cepheids.csv', 'r') as f:\n",
    "    lines = f.read().split('\\n') # split each line\n",
    "del lines[0]\n",
    "\n",
    "data_cepheids=[]\n",
    "for line in lines:\n",
    "    data_cepheids.append(line.split(','))\n",
    "del data_cepheids[len(data_cepheids)-1]\n",
    "\n",
    "x,y=[],[]\n",
    "for i in data_cepheids:\n",
    "    y.append(float(i[1]))\n",
    "    x.append(math.log10(float(i[0])))\n",
    "\n",
    "#creating arrays for abs magnitudes and log of period\n",
    "y=np.array(y)\n",
    "x=np.array(x)\n",
    "\n",
    "y_avg=np.average(y)\n",
    "x_avg=np.average(x)\n",
    "\n",
    "#finding std deviation for each data value\n",
    "y_dev=np.array(y-y_avg)\n",
    "x_dev=np.array(x-x_avg)\n",
    "\n",
    "s1=0.0\n",
    "s2=0.0\n",
    "for i in range(0,len(y_dev)):\n",
    "    s1=s1+ (x_dev[i])*(y_dev[i])\n",
    "    s2=s2+ (x_dev[i])**2\n",
    "\n",
    "#finding the slope and intercept for the best fit line\n",
    "a=s1/s2\n",
    "print(\"The value of a is\",a)\n",
    "b=y_avg-a*x_avg\n",
    "print(\"The value of b\",b)"
   ]
  },
  {
   "cell_type": "markdown",
   "id": "85e2e395-302e-481e-8b76-78b752f09df9",
   "metadata": {},
   "source": [
    "Next, we plot the data along with the fitted line. This serves as a visual verification that we have found the correct constants."
   ]
  },
  {
   "cell_type": "code",
   "execution_count": null,
   "id": "f12d085f-94aa-405f-8f42-f7ac5501f64b",
   "metadata": {},
   "outputs": [],
   "source": [
    "import matplotlib.pyplot as plt\n",
    "import numpy as np\n",
    "\n",
    "plt.plot(x, y, 'ro')\n",
    "x1=np.linspace(x[0],max(x),2)\n",
    "y1=a*x1+b\n",
    "plt.plot(x1, y1, '-')\n",
    "plt.gca().invert_yaxis()\n",
    "plt.xlabel(\"log(Period)\")\n",
    "plt.ylabel(\"Magnitude\")\n",
    "plt.title(\"Graphical Representation of Leavitt's Law\")\n",
    "plt.show()"
   ]
  },
  {
   "cell_type": "markdown",
   "id": "512d0fa2-6e7c-4f08-a509-97d82b2d51f5",
   "metadata": {},
   "source": [
    "# Part 2\n",
    "\n",
    "Now we are ready to use the result we have obtained to solve the problem.\n",
    "\n",
    "Given in the ```curves.csv``` file is the data of the light curves of many cepheids in the line of sight of a galaxy. The data contains three columns: ID(Unique for every cepheid), JD (the julian date of observation) and the apparent magnitude observed."
   ]
  },
  {
   "cell_type": "markdown",
   "id": "302d77f1-43cf-45ef-b527-16a8f871c294",
   "metadata": {},
   "source": [
    "First we need to find the period of each cepheid."
   ]
  },
  {
   "cell_type": "code",
   "execution_count": null,
   "id": "97f85ee8-4dad-483a-82b9-8976e9ca8633",
   "metadata": {},
   "outputs": [],
   "source": [
    "import numpy as np\n",
    "import math\n",
    "import matplotlib.pyplot as plt\n",
    "from astropy.timeseries import LombScargle\n",
    "#Reference: https://docs.astropy.org/en/stable/timeseries/lombscargle.html\n",
    "#Reference: https://web.iucaa.in/~dipankar/CMA2020/MF_files/VanderPlas_1703.09824.pdf\n",
    "\n",
    "#defining function to find period of a cepheid using Lomb Scargle Method\n",
    "def find_period(x):\n",
    "    jd, m = [], []\n",
    "    for i in x:\n",
    "        jd.append(i[1])\n",
    "        m.append(i[2])\n",
    "    jd=np.array(jd)\n",
    "    m=np.array(m)\n",
    "\n",
    "    # Compute the Lomb-Scargle periodogram\n",
    "    frequency, power = LombScargle(jd, m).autopower()\n",
    "\n",
    "    # Identify the best period\n",
    "    best_frequency = frequency[power.argmax()]\n",
    "    best_period = 1 / best_frequency\n",
    "\n",
    "    return best_period\n",
    "\n",
    "#returns mean apparent magnitude\n",
    "def mean_appmag(x):\n",
    "    m=[]\n",
    "    for i in x:\n",
    "        m.append(i[2])\n",
    "    m=np.array(m)\n",
    "    return np.mean(m)\n",
    "\n",
    "#reading file\n",
    "with open('curves.csv', 'r') as f:\n",
    "    lines = f.read().split('\\n') # split each line\n",
    "del lines[0]\n",
    "\n",
    "data_curves=[]\n",
    "for line in lines:\n",
    "    data_curves.append(line.split(','))\n",
    "del data_curves[len(data_curves)-1]\n",
    "\n",
    "cepheid_id, cepheid_period, cepheid_appmag=[], [], []\n",
    "j=0\n",
    "first, last= [], []\n",
    "\n",
    "for i in data_curves:\n",
    "    i[0]=int(i[0])\n",
    "    i[1]=float(i[1])\n",
    "    i[2]=float(i[2])\n",
    "    if i[0] not in cepheid_id:\n",
    "        cepheid_id.append(i[0])\n",
    "        #storing start and end indices for a particular cepheid id\n",
    "        first.append(j)\n",
    "        last.append(j-1)\n",
    "    j=j+1\n",
    "last.append(291749)\n",
    "del last[0]\n",
    "\n",
    "print(\"{:<15}{:<8}\".format(\"ID\", \"Period (days)\"))\n",
    "print(\"-\"*33)\n",
    "for i in range(len(cepheid_id)):\n",
    "    x=data_curves[first[i]:last[i]+1]\n",
    "    cepheid_period.append(find_period(x))\n",
    "    cepheid_appmag.append(mean_appmag(x))\n",
    "    print(f\"{cepheid_id[i]:<15}{cepheid_period[i]:<8}\")"
   ]
  },
  {
   "cell_type": "markdown",
   "id": "c3bb75f6-4d4d-4128-a9f2-7c490191f712",
   "metadata": {},
   "source": [
    "Next, using the calculated periods, we find the absolute magnitude of these stars using the relation you found earlier."
   ]
  },
  {
   "cell_type": "code",
   "execution_count": null,
   "id": "424a66b3-1ae3-4a88-b0f8-83f1c8950f8c",
   "metadata": {},
   "outputs": [],
   "source": [
    "# Values of a ad b calculated in part 1\n",
    "a=-2.21641005981804\n",
    "b=-1.6808674146142557\n",
    "\n",
    "# USing leavitt law to calculate absolute magnitude\n",
    "def abs_mag(p):\n",
    "    return a*math.log10(p)+b\n",
    "\n",
    "cepheid_absmag=[]\n",
    "print(\"{:<15}{:<8}\".format(\"ID\", \"Absolute Magnitude\"))\n",
    "print(\"-\"*33)\n",
    "for i in range(len(cepheid_id)):\n",
    "    x=data_curves[first[i]:last[i]+1]\n",
    "    cepheid_absmag.append(abs_mag(cepheid_period[i]))\n",
    "    print(f\"{cepheid_id[i]:<15}{cepheid_absmag[i]:<8}\")"
   ]
  },
  {
   "cell_type": "markdown",
   "id": "622c5981-c8d4-4dbe-8296-51b2aa882174",
   "metadata": {},
   "source": [
    "Then, using the apparent magnitude data, we find the distance to these cepheid variables."
   ]
  },
  {
   "cell_type": "code",
   "execution_count": null,
   "id": "06a455f8-8096-42e4-8eae-da7705b21282",
   "metadata": {},
   "outputs": [],
   "source": [
    "#defining function to return distance of cepheid from us\n",
    "def calc_distance(m,M):\n",
    "    d=pow(10,(m-M)/5.0+1)\n",
    "    return d\n",
    "\n",
    "cepheid_distance=[]\n",
    "print(\"{:<15}{:<8}\".format(\"ID\", \"Distance (in parsecs)\"))\n",
    "print(\"-\"*33)\n",
    "for i in range(len(cepheid_id)):\n",
    "    cepheid_distance.append(calc_distance(cepheid_appmag[i], cepheid_absmag[i]))\n",
    "    print(f\"{cepheid_id[i]:<15}{cepheid_distance[i]:<8}\")"
   ]
  },
  {
   "cell_type": "markdown",
   "id": "0286963c-ce42-488d-af04-3f2c247a8127",
   "metadata": {},
   "source": [
    "Finally, we find the distance to the galaxy being observed."
   ]
  },
  {
   "cell_type": "code",
   "execution_count": null,
   "id": "72b78090-a8fe-4594-bf3c-64e17e14536a",
   "metadata": {},
   "outputs": [],
   "source": [
    "print(\"The distance of the galaxy from us is around\", round(np.mean(cepheid_distance)),\"parsecs.\")"
   ]
  },
  {
   "cell_type": "markdown",
   "id": "c0387b38-81d0-4f8c-90ef-c225e3821794",
   "metadata": {},
   "source": [
    "# Part 3\n",
    "\n",
    "Cepheid variable stars are known for their periodic changes in luminosity due to their pulsations. These stars exhibit a well-defined relationship between their pulsation period and intrinsic luminosity, known as the period-luminosity relation. But, what's the mechanism driving these pulsations? "
   ]
  },
  {
   "cell_type": "markdown",
   "id": "a06982b3-9c98-4835-9f80-0c124a56d585",
   "metadata": {},
   "source": [
    "##### The answer lies within a phenomenon called **κ–mechanism**.\n",
    "Cepheids change brightness due to the thermal instability caused by κ–mechanism.\n",
    "\n",
    "##### Opacity is the measure of impenetrability to electromagnetic or other kinds of radiation. The kappa mechanism occurs when opacity in a star increases with temperature rather than decreasing. For example, doubly ionized helium has higher opacity than singly ionized helium.\n",
    "\n",
    "##### The main gas thought to be involved in the process is helium. The kappa mechanism occurs in two phases:\n",
    "\n",
    "##### A) Compression Phase:\n",
    " When the star contracts, it temperature and density in the ionisation zone increases. This rise in temperature leads to a point where double ionisation occurs spontaneously and is sustained throughout the layer, eventually leading to higher opacity. High opacity traps the radiation within the ionization zone, causing it to heat up further and store energy. The increased thermal pressure pushes the outer layers outward, initiating the expansion phase. Cepheid variables become dimmest during the part of the cycle when the helium is doubly ionized.\n",
    "\n",
    "##### B) Expansion Phase:\n",
    "  As it expands, it cools, but remains ionised until another threshold is reached at which point double ionization cannot be sustained. Thereafter, helium ions recombine; the layer becomes singly ionized hence more transparent (i.e. opacity decreases), which allows radiation to escape. The reduced pressure slows and ultimately stops the expansion. Contraction begins due to the star's gravitational attraction.\n",
    "  \n",
    "The thermal instability arises because the energy trapping (during compression) and release (during expansion) are out of phase with the star's motion. This ensures that the pulsations are self-sustaining, as the trapped energy drives the outward motion and the energy release facilitates contraction.\n",
    "\n"
   ]
  }
 ],
 "metadata": {
  "kernelspec": {
   "display_name": "Python 3 (ipykernel)",
   "language": "python",
   "name": "python3"
  },
  "language_info": {
   "codemirror_mode": {
    "name": "ipython",
    "version": 3
   },
   "file_extension": ".py",
   "mimetype": "text/x-python",
   "name": "python",
   "nbconvert_exporter": "python",
   "pygments_lexer": "ipython3",
   "version": "3.12.7"
  }
 },
 "nbformat": 4,
 "nbformat_minor": 5
}
