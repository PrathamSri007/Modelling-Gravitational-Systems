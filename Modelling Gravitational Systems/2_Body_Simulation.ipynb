{
  "nbformat": 4,
  "nbformat_minor": 0,
  "metadata": {
    "colab": {
      "provenance": [],
      "gpuType": "T4"
    },
    "kernelspec": {
      "name": "python3",
      "display_name": "Python 3"
    },
    "language_info": {
      "name": "python"
    },
    "accelerator": "GPU"
  },
  "cells": [
    {
      "cell_type": "code",
      "execution_count": null,
      "metadata": {
        "id": "5cW-ZAbOKkSI"
      },
      "outputs": [],
      "source": [
        "N=2\n",
        "G=1\n",
        "dt=0.1\n",
        "\n",
        "global t"
      ]
    },
    {
      "cell_type": "code",
      "source": [
        "import matplotlib.pyplot as plt\n",
        "import matplotlib.animation as animation\n",
        "import numpy as np\n",
        "import math"
      ],
      "metadata": {
        "id": "UJiXX0q1OzY3"
      },
      "execution_count": null,
      "outputs": []
    },
    {
      "cell_type": "code",
      "source": [
        "class Body:\n",
        "  def __init__(self, m, x0, y0, vx0, vy0):\n",
        "    self.mass = m\n",
        "    self.pos = np.array([x0,y0])\n",
        "    self.vel = np.array([vx0,vy0])\n",
        "    self.acc = np.array([0,0])\n",
        "\n",
        "  def updateAcc(self, force):\n",
        "    self.acc = force / self.mass\n",
        "\n",
        "  def updateVel(self):\n",
        "    self.vel = self.vel + self.acc * dt\n",
        "\n",
        "  def updatePos(self):\n",
        "    self.pos = self.pos + self.vel * dt\n",
        "\n",
        "  def getKE(self):\n",
        "    return 0.5 * self.mass * (magnitude(self.vel))**2"
      ],
      "metadata": {
        "id": "oUUIlgy8Pgwc"
      },
      "execution_count": null,
      "outputs": []
    },
    {
      "cell_type": "code",
      "source": [
        "def calcForce(dist_vec):\n",
        "  return -(G*body1.mass*body2.mass/(magnitude(dist_vec)**3))*dist_vec\n",
        "\n",
        "def reducedMass(m1, m2):\n",
        "  return m1*m2/(m1+m2)\n",
        "\n",
        "def magnitude(vector):\n",
        "  return math.sqrt((vector[0])**2 + (vector[1])**2)\n",
        "\n",
        "def getCOM():\n",
        "  return (body1.mass*body1.pos + body2.mass*body2.pos) / (body1.mass+body2.mass)\n",
        "\n",
        "def getPE(r):\n",
        "  return -G * body1.mass * body2.mass / r"
      ],
      "metadata": {
        "id": "auSYKDTElOrB"
      },
      "execution_count": null,
      "outputs": []
    },
    {
      "cell_type": "code",
      "source": [
        "body1 = Body(10,-10, 0, 0, 0) #define body 1 with attributes mass and velocity\n",
        "body2 = Body(1,+10, 0, 0, 0) #define body 2 with attributes mass and velocity\n",
        "red_mass = reducedMass(body1.mass, body2.mass)\n",
        "COM = getCOM()\n",
        "\n",
        "PE = []\n",
        "TE = []"
      ],
      "metadata": {
        "id": "FNODrPhzBbWt"
      },
      "execution_count": null,
      "outputs": []
    },
    {
      "cell_type": "code",
      "source": [
        "# create a figure, axis and plot element\n",
        "fig = plt.figure()\n",
        "axis = plt.axes(xlim =(-20, 20), ylim =(-20, 20))\n",
        "mass1, = axis.plot(body1.pos[0], body1.pos[1], 'bo')\n",
        "mass2, = axis.plot(body2.pos[0], body2.pos[1], 'ro')\n",
        "com, = axis.plot(COM[0], COM[1], 'gP')"
      ],
      "metadata": {
        "colab": {
          "base_uri": "https://localhost:8080/",
          "height": 435
        },
        "id": "A5RvzR6lnpFI",
        "outputId": "90105c17-0ea6-4d49-9c0c-4a2333b4527b"
      },
      "execution_count": null,
      "outputs": [
        {
          "output_type": "display_data",
          "data": {
            "text/plain": [
              "<Figure size 640x480 with 1 Axes>"
            ],
            "image/png": "[encoded data removed]"
          },
          "metadata": {}
        }
      ]
    },
    {
      "cell_type": "code",
      "source": [
        "#energy plotter\n",
        "def energyPlot():\n",
        "  time = np.linspace(0, 20, len(PE))\n",
        "  axis_energy = plt.axes()\n",
        "  axis_energy.plot(time, PE, 'g-', label='Potential Energy')  # PE line\n",
        "  axis_energy.plot(time, TE, 'r-', label='Total Energy')      # TE line\n",
        "  axis_energy.set_xlim(0, 10)\n",
        "  axis_energy.set_ylim(np.min(PE)-0.2, np.max(TE)+0.2)\n",
        "  axis_energy.set_title(\"Energy vs Time\")\n",
        "  axis_energy.set_xlabel(\"Time (s)\")\n",
        "  axis_energy.set_ylabel(\"Energy (J)\")\n",
        "  axis_energy.legend()\n",
        "  axis_energy.grid(True)"
      ],
      "metadata": {
        "id": "jcc9uGOCd8rJ"
      },
      "execution_count": null,
      "outputs": []
    },
    {
      "cell_type": "code",
      "source": [
        "# initialization function\n",
        "def init():\n",
        "  # creating an empty plot/frame\n",
        "  mass1.set_data([body1.pos[0]], [body1.pos[1]])\n",
        "  mass2.set_data([body2.pos[0]], [body2.pos[1]])\n",
        "  return mass1, mass2\n",
        "\n",
        "#animate function\n",
        "def animate(i):\n",
        "    # t is a parameter\n",
        "    t = i*dt\n",
        "\n",
        "    dist_vec = body1.pos - body2.pos\n",
        "    r = magnitude(dist_vec)\n",
        "    f12 = calcForce(dist_vec)\n",
        "    f21 = -f12\n",
        "\n",
        "    body1.updateAcc(f12)\n",
        "    body2.updateAcc(f21)\n",
        "\n",
        "    body1.updateVel()\n",
        "    body2.updateVel()\n",
        "\n",
        "    body1.updatePos()\n",
        "    body2.updatePos()\n",
        "\n",
        "    # set positions of the two masses\n",
        "    mass1.set_data([body1.pos[0]], [body1.pos[1]])\n",
        "    mass2.set_data([body2.pos[0]], [body2.pos[1]])\n",
        "    COM = getCOM()\n",
        "    com.set_data([COM[0]], [COM[1]])\n",
        "\n",
        "    #energy\n",
        "    PE.append(getPE(r))\n",
        "    KE1 = body1.getKE()\n",
        "    KE2 = body2.getKE()\n",
        "    totalEnergy=getPE(r)+KE1+KE2\n",
        "    TE.append(totalEnergy)\n",
        "\n",
        "    # return mass object\n",
        "    return mass1, mass2\n",
        "\n",
        "# setting a title for the plot\n",
        "plt.title('2-Body Simulation')\n",
        "# hiding the axis details\n",
        "plt.axis('off')\n",
        "\n",
        "# call the animator\n",
        "anim = animation.FuncAnimation(fig, animate, init_func=init,\n",
        "                               frames=1000, interval=10, blit=False)\n",
        "\n",
        "# save the animation as mp4 video file\n",
        "anim.save('twobodysim.mp4', writer = 'ffmpeg', fps = 100)\n",
        "\n",
        "energyPlot()\n",
        "plt.show()"
      ],
      "metadata": {
        "colab": {
          "base_uri": "https://localhost:8080/",
          "height": 472
        },
        "id": "hzDq8nXDWOI0",
        "outputId": "6de5568d-ed0c-4730-9bf5-a5085c52749a"
      },
      "execution_count": null,
      "outputs": [
        {
          "output_type": "display_data",
          "data": {
            "text/plain": [
              "<Figure size 640x480 with 2 Axes>"
            ],
            "image/png": "[encoded data removed]"
          },
          "metadata": {}
        }
      ]
    }
  ]
}