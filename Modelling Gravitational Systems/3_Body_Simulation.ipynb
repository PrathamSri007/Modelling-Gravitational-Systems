{
  "nbformat": 4,
  "nbformat_minor": 0,
  "metadata": {
    "colab": {
      "provenance": [],
      "gpuType": "T4"
    },
    "kernelspec": {
      "name": "python3",
      "display_name": "Python 3"
    },
    "language_info": {
      "name": "python"
    },
    "accelerator": "GPU"
  },
  "cells": [
    {
      "cell_type": "code",
      "execution_count": null,
      "metadata": {
        "id": "uPJv-RMZ6Gsd"
      },
      "outputs": [],
      "source": [
        "N=3\n",
        "G=1\n",
        "dt=0.1\n",
        "\n",
        "global t"
      ]
    },
    {
      "cell_type": "code",
      "source": [
        "import matplotlib.pyplot as plt\n",
        "import matplotlib.animation as animation\n",
        "import numpy as np\n",
        "import math"
      ],
      "metadata": {
        "id": "0IVyVEQV6cxv"
      },
      "execution_count": null,
      "outputs": []
    },
    {
      "cell_type": "code",
      "source": [
        "class Body:\n",
        "  def __init__(self, m, x0, y0, vx0, vy0):\n",
        "    self.mass = m\n",
        "    self.pos = np.array([x0,y0])\n",
        "    self.vel = np.array([vx0,vy0])\n",
        "    self.acc = np.array([0,0])\n",
        "\n",
        "  def updateAcc(self, force):\n",
        "    self.acc = force / self.mass\n",
        "\n",
        "  def updateVel(self):\n",
        "    self.vel = self.vel + self.acc * dt\n",
        "\n",
        "  def updatePos(self):\n",
        "    self.pos = self.pos + self.vel * dt"
      ],
      "metadata": {
        "id": "i-77Tg2X6e4x"
      },
      "execution_count": null,
      "outputs": []
    },
    {
      "cell_type": "code",
      "source": [
        "def findDistVector(body1, body2):\n",
        "  return body1.pos - body2.pos\n",
        "\n",
        "def calcForce(dist_vec):\n",
        "  return -(G*body1.mass*body2.mass/(magnitude(dist_vec)**3))*dist_vec\n",
        "\n",
        "def findForceOn(body):\n",
        "  force = np.array([0,0])\n",
        "  for b in bodies:\n",
        "    if b != body:\n",
        "      dist_vec = findDistVector(body, b)\n",
        "      force = force + calcForce(dist_vec)\n",
        "  return force\n",
        "\n",
        "def reducedMass(m1, m2):\n",
        "  return m1*m2/(m1+m2)\n",
        "\n",
        "def magnitude(vector):\n",
        "  return math.sqrt((vector[0])**2 + (vector[1])**2)\n",
        "\n",
        "def getCOM(bodies):\n",
        "  num, den = np.array([0,0]), 0\n",
        "  for body in bodies:\n",
        "    num = num + body.mass*body.pos\n",
        "    den = den + body.mass\n",
        "  return num/den"
      ],
      "metadata": {
        "id": "L5W2MbQX6iPv"
      },
      "execution_count": null,
      "outputs": []
    },
    {
      "cell_type": "code",
      "source": [
        "body1 = Body(1, 1.5, 0.0, 0, math.sqrt(2*math.sqrt(3))/3) #define body 1 with attributes mass and velocity\n",
        "body2 = Body(1,-0.75, 0.75*math.sqrt(3),-math.sqrt(2*math.sqrt(3))/3*math.sqrt(3/4), -math.sqrt(2*math.sqrt(3))/3*0.5) #define body 2 with attributes mass and velocity\n",
        "body3 = Body(1,-0.75,-0.75*math.sqrt(3), math.sqrt(2*math.sqrt(3))/3*math.sqrt(3/4), -math.sqrt(2*math.sqrt(3))/3*0.5) #define body 3 with attributes mass and velocity\n",
        "#red_mass = reducedMass(body1.mass, body2.mass)\n",
        "\n",
        "bodies = [body1, body2, body3]\n",
        "COM = getCOM(bodies)"
      ],
      "metadata": {
        "id": "URJfSRwD6qg_"
      },
      "execution_count": null,
      "outputs": []
    },
    {
      "cell_type": "code",
      "source": [
        "# create a figure, axis and plot element\n",
        "fig = plt.figure()\n",
        "axis = plt.axes(xlim =(-2, 2), ylim =(-2, 2))\n",
        "mass1, = axis.plot(body1.pos[0], body1.pos[1], 'bo')\n",
        "mass2, = axis.plot(body2.pos[0], body2.pos[1], 'ro')\n",
        "mass3, = axis.plot(body3.pos[0], body3.pos[1], 'mo')\n",
        "com, = axis.plot(COM[0], COM[1], 'gP')\n",
        "\n",
        "def plotContour():\n",
        "  x_points = np.linspace(-2, 2, 50)\n",
        "  y_points = np.linspace(-2, 2, 50)\n",
        "  X, Y = np.meshgrid(x_points, y_points)\n",
        "\n",
        "  U = -(G*body1.mass/np.sqrt((X-body1.pos[0])**2 + (Y-body1.pos[1])**2) + G*body2.mass/np.sqrt((X-body2.pos[0])**2 + (Y-body2.pos[1])**2) + G*body3.mass/np.sqrt((X-body3.pos[0])**2 + (Y-body3.pos[1])**2) )\n",
        "\n",
        "  contour = axis.contour(X, Y, U, levels=500)\n",
        "\n",
        "  plt.colorbar(contour)\n",
        "  plt.show()"
      ],
      "metadata": {
        "id": "FBvqrX2G6sxb",
        "colab": {
          "base_uri": "https://localhost:8080/",
          "height": 435
        },
        "collapsed": true,
        "outputId": "7d6fcfe6-32e1-4aa7-8dba-6e2988476527"
      },
      "execution_count": null,
      "outputs": [
        {
          "output_type": "display_data",
          "data": {
            "text/plain": [
              "<Figure size 640x480 with 1 Axes>"
            ],
            "image/png": "[encoded data removed]"
          },
          "metadata": {}
        }
      ]
    },
    {
      "cell_type": "code",
      "source": [
        "# initialization function\n",
        "def init():\n",
        "  # creating an empty plot/frame\n",
        "  mass1.set_data([body1.pos[0]], [body1.pos[1]])\n",
        "  mass2.set_data([body2.pos[0]], [body2.pos[1]])\n",
        "  mass3.set_data([body3.pos[0]], [body3.pos[1]])\n",
        "  return mass1, mass2, mass3,\n",
        "\n",
        "# lists to store x and y axis points\n",
        "# x_data, y_data=[], []\n",
        "\n",
        "#animate function\n",
        "def animate(i):\n",
        "    # t is a parameter\n",
        "    t = i*dt\n",
        "\n",
        "    f1 = findForceOn(body1)\n",
        "    f2 = findForceOn(body2)\n",
        "    f3 = findForceOn(body3)\n",
        "\n",
        "    body1.updateAcc(f1)\n",
        "    body2.updateAcc(f2)\n",
        "    body3.updateAcc(f3)\n",
        "\n",
        "    body1.updateVel()\n",
        "    body2.updateVel()\n",
        "    body3.updateVel()\n",
        "\n",
        "    body1.updatePos()\n",
        "    body2.updatePos()\n",
        "    body3.updatePos()\n",
        "\n",
        "    # set/update the x and y axes data\n",
        "    mass1.set_data([body1.pos[0]], [body1.pos[1]])\n",
        "    mass2.set_data([body2.pos[0]], [body2.pos[1]])\n",
        "    mass3.set_data([body3.pos[0]], [body3.pos[1]])\n",
        "    COM = getCOM(bodies)\n",
        "    com.set_data([COM[0]], [COM[1]])\n",
        "\n",
        "    # contour = axis.contour(X, Y, U, levels=500)\n",
        "\n",
        "    # return dot object\n",
        "    return mass1, mass2, mass3, com,\n",
        "\n",
        "# setting a title for the plot\n",
        "plt.title('3-Body Simulation')\n",
        "# hiding the axis details\n",
        "plt.axis('off')\n",
        "\n",
        "# call the animator\n",
        "anim = animation.FuncAnimation(fig, animate, init_func=init,\n",
        "                               frames=200, interval=10, blit=False)\n",
        "\n",
        "# save the animation as mp4 video file\n",
        "anim.save('3bodysim-circular.mp4', writer = 'ffmpeg', fps = 100)\n",
        "\n",
        "plt.show()"
      ],
      "metadata": {
        "id": "UKcJj2OC6vNH",
        "colab": {
          "base_uri": "https://localhost:8080/",
          "height": 428
        },
        "outputId": "28daf0b1-e6e9-44fd-a6ed-a3057cc2804d"
      },
      "execution_count": null,
      "outputs": [
        {
          "output_type": "display_data",
          "data": {
            "text/plain": [
              "<Figure size 640x480 with 1 Axes>"
            ],
            "image/png": "[encoded data removed]"
          },
          "metadata": {}
        }
      ]
    }
  ]
}